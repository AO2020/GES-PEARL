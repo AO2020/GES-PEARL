{
 "cells": [
  {
   "cell_type": "markdown",
   "metadata": {},
   "source": [
    "## Present Value\n",
    "---\n",
    "\n",
    "The <font color=red>present value</font> of wealth $W(t)$ is defined as\n",
    "$$\n",
    " PV(0)=B(t)W(t),\n",
    "$$\n",
    "where\n",
    "$$\n",
    " B(t) = \n",
    " \\begin{cases}\n",
    " \\displaystyle\n",
    "  \\frac1{\\left(1+r\\right)^t}, & (\\text{one-year compound}), \\\\\n",
    " \\displaystyle\n",
    "  \\frac1{\\left(1+\\frac{r}{M}\\right)^{Mt}}, & \\left(\\frac1{M}\\text{-year compound}\\right) ,\\\\\n",
    "  e^{-rt}, & (\\text{continuous compound}).\n",
    " \\end{cases}\n",
    "$$"
   ]
  },
  {
   "cell_type": "markdown",
   "metadata": {},
   "source": [
    "## Net Present Value\n",
    "---\n",
    "Suppose $C(0)$ is the amount of the initial investment for a project that will produce a cash flow $\\{C(t_1),\\dots,C(t_N)\\}$. The <font color=red>net present value</font> (<font color=red>NPV</font>) of this project is defined as \n",
    "\n",
    "\\begin{align*}\n",
    " NPV(0)\n",
    " &= C(0) + PV(0) \\\\\n",
    " &= C(0) + \\sum_{n=1}^N B(t_n)C(t_n) \n",
    " = \\sum_{n=0}^N B(t_n)C(t_n),\n",
    "\\end{align*}\n",
    "\n",
    "where we suppose $t_0=0$ and $B(t_0)=B(0)=1$.\n",
    "\n",
    "Suppose intervals between payments are equal, that is,\n",
    "\n",
    "$$\n",
    " t_n = \\frac{n}{N}T = n\\Delta,\\quad \\Delta = \\frac{T}{N},\\quad (n=0,1,\\dots,N).\n",
    "$$\n",
    "\n",
    "Then $B(t_n) = \\beta(r)^n$ where\n",
    "\n",
    "$$\n",
    " \\beta(r) = \\begin{cases}\n",
    " \\displaystyle\n",
    " \\frac1{\\left(1+r\\right)^{\\Delta}}, & (\\text{one-year compound}) \\\\\n",
    " \\displaystyle\n",
    " \\frac1{\\left(1+\\frac{r}{M}\\right)^{M\\Delta}}, & \\left(\\frac1{M}\\text{-year compound}\\right) \\\\\n",
    " e^{-r\\Delta}, & (\\text{continuous compound}). \\\\\n",
    " \\end{cases}\n",
    "$$\n",
    "\n",
    "Therefore the NPV is expressed as a polynomial function:\n",
    "\n",
    "$$\n",
    " NPV(0) = c_0 + c_1x + \\dots + c_n x^n + \\dots + c_N x^N,\n",
    "$$\n",
    "\n",
    "where $x = \\beta(r)$ and $c_n = C(t_n)$ ($n=0,1,\\dots,N$)."
   ]
  },
  {
   "cell_type": "markdown",
   "metadata": {},
   "source": [
    "## Internal Rate of Return\n",
    "---\n",
    "\n",
    "The <font color=red>internal rate of return</font> (<font color=red>IRR</font>) is the discount rate $r^*$ that makes the NPV of the cash flow equal to zero:\n",
    "\n",
    "$$\n",
    " 0 = c_0 + c_1\\beta(r^*) + \\dots + c_n \\beta(r^*)^n + \\dots + c_N \\beta(r^*)^N.\n",
    "$$\n",
    "\n",
    "The solution $r^*$ is obtained by solving the polynomial equation:\n",
    "\n",
    "$$\n",
    " 0 = c_0 + c_1x + \\dots + c_n x^n + \\dots + c_N x^N,\n",
    "$$\n",
    "\n",
    "with respect to $x$, and transform the solution $x^*$ with\n",
    "\n",
    "$$\n",
    " r^* =\n",
    " \\begin{cases}\n",
    " \\displaystyle\n",
    " \\left(\\frac{1}{x^*}\\right)^{\\frac1{\\Delta}} -1, & (\\text{one-year compound}) \\\\\n",
    " \\displaystyle\n",
    " M\\left\\{\\left(\\frac{1}{x^*}\\right)^{\\frac{1}{M\\Delta}} - 1\\right\\}, & \\left(\\frac1{M}\\text{-year compound}\\right) \\\\\n",
    " \\displaystyle\n",
    " -\\frac{\\log x^*}{\\Delta}, & (\\text{continuous compound}) \\\\\n",
    " \\end{cases}\n",
    "$$\n",
    "\n",
    "To simplify mathematical expressions, we suppose $\\Delta=1$ and $M=1$, i.e., each payment occurs at the end of each year."
   ]
  },
  {
   "cell_type": "markdown",
   "metadata": {},
   "source": [
    "## Python Code: NPV and IRR of Projects\n",
    "---\n",
    "\n",
    "The following cell import all necessary packages."
   ]
  },
  {
   "cell_type": "code",
   "execution_count": 1,
   "metadata": {},
   "outputs": [],
   "source": [
    "%matplotlib inline\n",
    "import numpy as np\n",
    "import numpy.polynomial.polynomial as pol\n",
    "import matplotlib.pyplot as plt"
   ]
  },
  {
   "cell_type": "markdown",
   "metadata": {},
   "source": [
    "Here we define two functions: `NPV` and `IRR` for calculating the net present value and the internal rate of return of a cashflow `CF`.\n",
    "\n",
    "A general syntax of function definition is as follows:\n",
    "\n",
    "```Python\n",
    "def function_name(argument_1, argument_2, ...):\n",
    "    statement(s)\n",
    "    return object_1, object_2, ...\n",
    "```\n",
    "`return` is optional, which returns objects the function creates.\n",
    "\n",
    "+ `polyval` evaluates the value of the polinomial function."
   ]
  },
  {
   "cell_type": "code",
   "execution_count": 2,
   "metadata": {},
   "outputs": [],
   "source": [
    "def NPV(r, CF):\n",
    "    x = 1.0 / (1.0 + 0.01 * r)\n",
    "    return pol.polyval(x, CF)"
   ]
  },
  {
   "cell_type": "markdown",
   "metadata": {},
   "source": [
    "+ `polyroot` computes all roots of the polynomial equation. \n",
    "+ `isreal` returns **True** if the variable is a real number; **False** otherwise. \n",
    "+ `real` retrieve the real part of the variable.\n",
    "+ `asscaler` force the variable to be a scalar."
   ]
  },
  {
   "cell_type": "code",
   "execution_count": 2,
   "metadata": {},
   "outputs": [],
   "source": [
    "def IRR(CF):\n",
    "    Roots = pol.polyroots(CF)\n",
    "    Real = np.real(Roots[np.isreal(Roots)])\n",
    "    Positive = np.asscalar(Real[Real > 0.0])\n",
    "    return (1.0 / Positive - 1.0) * 100"
   ]
  },
  {
   "cell_type": "markdown",
   "metadata": {},
   "source": [
    "A general syntex of `for` loop is as follows:\n",
    "```Python\n",
    "for variable in set_of_elememts:\n",
    "    statement(s)\n",
    "```\n",
    "It picks each element in `set_of_element` one by one, puts it in `variable` and executes the statement(s) until all elements are exhausted.\n",
    "\n",
    "+ `subplot` creates multiple plots in a single figure.\n",
    "+ `bar` creates a bar plot.\n",
    "+ `title` adds the title to the figure.\n",
    "+ `axhline` draws a horizontal line.\n",
    "+ `ylim` sets the upper and lower limit of the vertical axis."
   ]
  },
  {
   "cell_type": "code",
   "execution_count": 3,
   "metadata": {},
   "outputs": [
    {
     "data": {
      "image/png": "[encoded data removed]",
      "text/plain": [
       "<Figure size 432x288 with 4 Axes>"
      ]
     },
     "metadata": {},
     "output_type": "display_data"
    }
   ],
   "source": [
    "Periods = np.linspace(0, 4, 5)\n",
    "V_CF = np.array([[-5.0, 1.5, 1.5, 1.5, 1.5],\n",
    "                 [-7.0, 2.0, 2.0, 2.0, 2.0],\n",
    "                 [-9.0, 4.0, 3.0, 2.0, 1.0],\n",
    "                 [-9.0, 1.0, 2.0, 3.0, 4.0]])\n",
    "V_Title = ['project A', 'project B', 'project C', 'project D']\n",
    "fig1 = plt.figure(num=1, facecolor='w')\n",
    "for fig_num in range(4):\n",
    "    plt.subplot(2, 2, fig_num + 1)\n",
    "    plt.bar(Periods, V_CF[fig_num, :], color=(0.5, 0.5, 0.5))\n",
    "    plt.title(V_Title[fig_num])\n",
    "    plt.axhline(color='k', linewidth=0.5)\n",
    "    plt.ylim(-10, 5)\n",
    "    if fig_num == 2 or fig_num == 3:\n",
    "        plt.xlabel('time')\n",
    "    if fig_num == 0 or fig_num == 2:\n",
    "        plt.ylabel('cash flow')\n",
    "    if fig_num == 1 or fig_num == 0:\n",
    "        plt.xticks([])\n",
    "plt.show()"
   ]
  },
  {
   "cell_type": "code",
   "execution_count": 4,
   "metadata": {},
   "outputs": [],
   "source": [
    "r = 5\n",
    "V_NPV = np.zeros(4)\n",
    "for cf_num in range(4):\n",
    "    V_NPV[cf_num] = NPV(r, V_CF[cf_num, :])\n",
    "V_IRR = np.zeros(4)\n",
    "for cf_num in range(4):\n",
    "    V_IRR[cf_num] = IRR(V_CF[cf_num, :])"
   ]
  },
  {
   "cell_type": "code",
   "execution_count": 5,
   "metadata": {},
   "outputs": [
    {
     "name": "stdout",
     "output_type": "stream",
     "text": [
      "[ 0.31892576  0.09190101  0.08098992 -0.3512374 ]\n"
     ]
    }
   ],
   "source": [
    "print(V_NPV)"
   ]
  },
  {
   "cell_type": "code",
   "execution_count": 6,
   "metadata": {},
   "outputs": [
    {
     "name": "stdout",
     "output_type": "stream",
     "text": [
      "[7.7138473  5.56378464 5.48356897 3.59611621]\n"
     ]
    }
   ],
   "source": [
    "print(V_IRR)"
   ]
  }
 ],
 "metadata": {
  "kernelspec": {
   "display_name": "Python (Finance)",
   "language": "python",
   "name": "finance"
  },
  "language_info": {
   "codemirror_mode": {
    "name": "ipython",
    "version": 3
   },
   "file_extension": ".py",
   "mimetype": "text/x-python",
   "name": "python",
   "nbconvert_exporter": "python",
   "pygments_lexer": "ipython3",
   "version": "3.7.3"
  }
 },
 "nbformat": 4,
 "nbformat_minor": 2
}
