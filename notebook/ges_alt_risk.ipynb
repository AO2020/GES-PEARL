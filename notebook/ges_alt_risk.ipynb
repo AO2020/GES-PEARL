{
 "cells": [
  {
   "cell_type": "markdown",
   "metadata": {},
   "source": [
    "## Portfolio Selection with Alternative Risk Measures\n",
    "---\n",
    "\n",
    "We consider the following three alternative risk measures:\n",
    "\n",
    "+ **Mean absolute deviation**: $\\mathrm{E}[|R_P - \\mu_P|]$\n",
    "+ **Semivariance**: $\\mathrm{E}[(R_P - \\mu_P)^2|R_{Pt} \\leqq \\mu_P]$\n",
    "+ **Expected shortfall**: $\\mathrm{E}[-R_P|R_P\\leqq\\text{VaR}_\\alpha]$ where $\\Pr\\{R_P\\leqq\\text{VaR}_\\alpha\\}=\\alpha$\n"
   ]
  },
  {
   "cell_type": "code",
   "execution_count": 1,
   "metadata": {},
   "outputs": [],
   "source": [
    "import numpy as np\n",
    "import cvxpy as cp\n",
    "import pandas as pd\n",
    "import matplotlib.pyplot as plt\n",
    "from IPython.display import display\n",
    "marketcap = pd.read_csv('stock_market_cap.csv', index_col=0)\n",
    "R = (marketcap.diff()/marketcap.shift(1))[1:] * 100\n",
    "R.index = pd.date_range('2014-2-1', periods=R.shape[0], freq='M')\n",
    "T, N = R.shape\n",
    "Mu = R.mean().values"
   ]
  },
  {
   "cell_type": "markdown",
   "metadata": {},
   "source": [
    "### Mean Absolute Deviation Optimization\n",
    "---\n",
    "\n",
    "The sample mean absolute deviation is\n",
    "\n",
    "\\begin{equation*}\n",
    " \\varrho^{AD}(w) = \\frac1{T}\\sum_{t=1}^T|r_{P t}-\\bar r_P|.\n",
    "\\end{equation*}\n",
    "\n",
    "Define $v_t=r_{Pt}-\\bar r_P$ and use the same notations as the minimum variance portfolio probem. Then we have\n",
    "\n",
    "\\begin{align*}\n",
    " \\min_{w,v} & \\quad \\varrho^{AD}(w) = \\frac1T\\sum_{t=1}^T |v_t|, \\\\\n",
    " \\text{subject to}\n",
    "  & \\quad Dw = v, \\\\\n",
    "  & \\quad w^{\\intercal}\\bar r = \\mu_P, \\quad w^{\\intercal}\\iota = 1, \\\\\n",
    "  & \\quad w_1\\geqq 0,\\ \\cdots,\\ w_N\\geqq 0.\n",
    "\\end{align*}\n"
   ]
  },
  {
   "cell_type": "markdown",
   "metadata": {},
   "source": [
    "#### CVXPY version 1.0 (macOS and Linux)"
   ]
  },
  {
   "cell_type": "code",
   "execution_count": 2,
   "metadata": {},
   "outputs": [],
   "source": [
    "Return_Dev = (R - Mu).values / T\n",
    "Weight = cp.Variable(N)\n",
    "Deviation = cp.Variable(T)\n",
    "Target_Return = cp.Parameter(nonneg=True)\n",
    "Risk_AD = cp.norm(Deviation, 1)\n",
    "Portfolio_AD = cp.Problem(cp.Minimize(Risk_AD),\n",
    "                          [Return_Dev * Weight == Deviation,\n",
    "                           Weight.T * Mu == Target_Return,\n",
    "                           cp.sum(Weight) == 1.0,\n",
    "                           Weight >= 0.0])"
   ]
  },
  {
   "cell_type": "markdown",
   "metadata": {},
   "source": [
    "#### CVXPY version 0.4 (Windows)"
   ]
  },
  {
   "cell_type": "code",
   "execution_count": null,
   "metadata": {},
   "outputs": [],
   "source": [
    "Return_Dev = (R - Mu).values / T\n",
    "Weight = cp.Variable(N)\n",
    "Deviation = cp.Variable(T)\n",
    "Target_Return = cp.Parameter(sign='positive')\n",
    "Risk_AD = cp.norm(Deviation, 1)\n",
    "Portfolio_AD = cp.Problem(cp.Minimize(Risk_AD),\n",
    "                          [Return_Dev * Weight == Deviation,\n",
    "                           Weight.T * Mu == Target_Return,\n",
    "                           cp.sum_entries(Weight) == 1.0,\n",
    "                           Weight >= 0.0])"
   ]
  },
  {
   "cell_type": "markdown",
   "metadata": {},
   "source": [
    "#### Miminum Mean Absolute Deviation Frontier"
   ]
  },
  {
   "cell_type": "code",
   "execution_count": 3,
   "metadata": {},
   "outputs": [
    {
     "data": {
      "image/png": "[encoded data removed]",
      "text/plain": [
       "<Figure size 432x288 with 1 Axes>"
      ]
     },
     "metadata": {},
     "output_type": "display_data"
    }
   ],
   "source": [
    "V_Target = np.linspace(Mu.min(), Mu.max(), num=100)\n",
    "V_Risk = np.zeros(V_Target.shape)\n",
    "for idx, Target_Return.value in enumerate(V_Target):\n",
    "    Portfolio_AD.solve()\n",
    "    V_Risk[idx] = Risk_AD.value\n",
    "fig1 = plt.figure(num=1, facecolor='w')\n",
    "plt.plot(V_Risk, V_Target, 'b-')\n",
    "plt.plot((R - Mu).abs().mean().values, Mu, 'rx')\n",
    "plt.legend(['Frontier', 'Asset'], loc='best', frameon=False)\n",
    "plt.xlabel('Absolute deviation (%)')\n",
    "plt.ylabel('Expected return (%)')\n",
    "plt.show()"
   ]
  },
  {
   "cell_type": "markdown",
   "metadata": {},
   "source": [
    "### Semivariance Optimization\n",
    "---\n",
    "\n",
    "The sample semivariance is\n",
    "\n",
    "\\begin{equation*}\n",
    " \\varrho^{SV}(w) = \\frac1T\\sum_{t=1}^T\\{[r_{Pt}-\\bar r_P]^-\\}^2,\n",
    "\\end{equation*}\n",
    "\n",
    "where $[r_{Pt}-\\bar r_P]^-=\\max\\{-(r_{Pt}-\\bar r_P),0\\}$ is call the negative part. Defining $v_t=[r_{Pt}-\\bar r_P]^-$, we have\n",
    "\n",
    "\\begin{align*}\n",
    " \\min_{w,v} &\\quad \\varrho^{SV}(w) = \\frac1T\\sum_{t=1}^T v_t^2, \\\\\n",
    " \\text{subject to}      &\\quad w^{\\intercal}\\bar r = \\mu_P, \\quad w^{\\intercal}\\iota = 1, \\\\\n",
    "                  &\\quad w_1\\geqq 0,\\ \\cdots,\\ w_N\\geqq 0, \n",
    "                  \\      v_1 \\geqq 0,\\ \\cdots,\\ v_T\\geqq 0, \\\\\n",
    "                  &\\quad r_{P1}-\\bar r_P + v_1 \\geqq 0,\\ \\cdots,\\ r_{PT}-\\bar r_P + v_T \\geqq 0.\n",
    "\\end{align*}\n"
   ]
  },
  {
   "cell_type": "markdown",
   "metadata": {},
   "source": [
    "#### CVXPY version 1.0 (macOS and Linux)"
   ]
  },
  {
   "cell_type": "code",
   "execution_count": 4,
   "metadata": {},
   "outputs": [],
   "source": [
    "Return_Dev = (R - Mu).values / np.sqrt(T)\n",
    "Weight = cp.Variable(N)\n",
    "Deviation = cp.Variable(T)\n",
    "Target_Return = cp.Parameter(nonneg=True)\n",
    "Risk_Semivariance = cp.sum_squares(Deviation)\n",
    "Portfolio_SV = cp.Problem(cp.Minimize(Risk_Semivariance),\n",
    "                          [Weight.T*Mu == Target_Return,\n",
    "                           cp.sum(Weight) == 1.0,\n",
    "                           Weight >= 0.0,\n",
    "                           Deviation >= 0.0,\n",
    "                           Return_Dev*Weight + Deviation >= 0.0])"
   ]
  },
  {
   "cell_type": "markdown",
   "metadata": {},
   "source": [
    "#### CVXPY version 0.4 (Windows)"
   ]
  },
  {
   "cell_type": "code",
   "execution_count": null,
   "metadata": {},
   "outputs": [],
   "source": [
    "Return_Dev = (R - Mu).values / np.sqrt(T)\n",
    "Weight = cp.Variable(N)\n",
    "Deviation = cp.Variable(T)\n",
    "Target_Return = cp.Parameter(sign='positive')\n",
    "Risk_Semivariance = cp.sum_squares(Deviation)\n",
    "Portfolio_SV = cp.Problem(cp.Minimize(Risk_Semivariance),\n",
    "                          [Weight.T*Mu == Target_Return,\n",
    "                           cp.sum_entries(Weight) == 1.0,\n",
    "                           Weight >= 0.0,\n",
    "                           Deviation >= 0.0,\n",
    "                           Return_Dev*Weight + Deviation >= 0.0])"
   ]
  },
  {
   "cell_type": "markdown",
   "metadata": {},
   "source": [
    "#### Minimum Semivariance Fronfier"
   ]
  },
  {
   "cell_type": "code",
   "execution_count": 5,
   "metadata": {},
   "outputs": [
    {
     "data": {
      "image/png": "[encoded data removed]",
      "text/plain": [
       "<Figure size 432x288 with 1 Axes>"
      ]
     },
     "metadata": {},
     "output_type": "display_data"
    }
   ],
   "source": [
    "V_Target = np.linspace(Mu.min(), Mu.max(), num=100)\n",
    "V_Risk = np.zeros(V_Target.shape)\n",
    "for idx, Target_Return.value in enumerate(V_Target):\n",
    "    Portfolio_SV.solve()\n",
    "    V_Risk[idx] = np.sqrt(Risk_Semivariance.value)\n",
    "fig2 = plt.figure(num=2, facecolor='w')\n",
    "plt.plot(V_Risk, V_Target, 'b-')\n",
    "plt.plot(np.sqrt(((R[R <= Mu] - Mu) ** 2).sum().values / T), Mu, 'rx')\n",
    "plt.legend(['Frontier', 'Asset'], loc='best', frameon=False)\n",
    "plt.xlabel('Square root of semivariance (%)')\n",
    "plt.ylabel('Expected return (%)')\n",
    "plt.show()"
   ]
  },
  {
   "cell_type": "markdown",
   "metadata": {},
   "source": [
    "### Expected Shortfall Optimization\n",
    "---\n",
    "\n",
    "The expected shortfall (ES) is given by \n",
    "\n",
    "\\begin{equation*}\n",
    " \\text{ES}_\\alpha = \\frac1{\\alpha}\\int_{-\\infty}^\\infty\n",
    " [R_P-\\text{VaR}_\\alpha]^-p(R_P)dR_P - \\text{VaR}_\\alpha.\n",
    "\\end{equation*}\n",
    "\n",
    "This can be approximated by\n",
    "\n",
    "\\begin{equation*}\n",
    " \\varrho^{ES}(w,c) = \\frac1{\\alpha T}\\sum_{t=1}^T[r_{Pt}-c]^- - c.\n",
    "\\end{equation*}\n",
    "\n",
    "Thus, by defining $v_t=[r_{P t}-c]^-$, we have\n",
    "\n",
    "\\begin{align*}\n",
    " \\min_{w,v,c} & \\quad \\varrho^{ES}(w,c) = \\frac1{\\alpha T}\\sum_{t=1}^T v_t -c, \\\\\n",
    " \\text{\\bf subject to} \n",
    "  &\\quad w^{\\intercal}\\bar r = \\mu_P, \\quad w^{\\intercal}\\iota = 1, \\\\\n",
    "  &\\quad w_1\\geqq 0,\\ \\cdots,\\ w_N\\geqq 0, \\ v_1 \\geqq 0,\\ \\cdots,\\ v_T\\geqq 0, \\\\\n",
    "  &\\quad r_{P1} - c + v_1 \\geqq 0,\\ \\cdots,\\ r_{PT} - c + v_T \\geqq 0.\n",
    "\\end{align*}\n"
   ]
  },
  {
   "cell_type": "markdown",
   "metadata": {},
   "source": [
    "#### CVXPY version 1.0 (macOS and Linux)"
   ]
  },
  {
   "cell_type": "code",
   "execution_count": 6,
   "metadata": {},
   "outputs": [],
   "source": [
    "Return = R.values / T\n",
    "Weight = cp.Variable(N)\n",
    "Deviation = cp.Variable(T)\n",
    "VaR = cp.Variable()\n",
    "Alpha = cp.Parameter(nonneg=True)\n",
    "Target_Return = cp.Parameter(nonneg=True)\n",
    "Risk_ES = cp.sum(Deviation)/Alpha - VaR\n",
    "Portfolio_ES = cp.Problem(cp.Minimize(Risk_ES),\n",
    "                          [Weight.T*Mu == Target_Return,\n",
    "                           cp.sum(Weight) == 1.0,\n",
    "                           Weight >= 0.0,\n",
    "                           Deviation >= 0.0,\n",
    "                           Return*Weight - VaR/T + Deviation >= 0.0])"
   ]
  },
  {
   "cell_type": "markdown",
   "metadata": {},
   "source": [
    "#### CVXPY version 0.4 (Windows)"
   ]
  },
  {
   "cell_type": "code",
   "execution_count": null,
   "metadata": {},
   "outputs": [],
   "source": [
    "Return = R.values / T\n",
    "Weight = cp.Variable(N)\n",
    "Deviation = cp.Variable(T)\n",
    "VaR = cp.Variable()\n",
    "Alpha = cp.Parameter(sign='positive')\n",
    "Target_Return = cp.Parameter(sign='positive')\n",
    "Risk_ES = cp.sum_entries(Deviation)/Alpha - VaR\n",
    "Portfolio_ES = cp.Problem(cp.Minimize(Risk_ES),\n",
    "                          [Weight.T*Mu == Target_Return,\n",
    "                           cp.sum_entries(Weight) == 1.0,\n",
    "                           Weight >= 0.0,\n",
    "                           Deviation >= 0.0,\n",
    "                           Return*Weight - VaR/T + Deviation >= 0.0])"
   ]
  },
  {
   "cell_type": "markdown",
   "metadata": {},
   "source": [
    "#### Opitimal Expected Shortfall Portfolio"
   ]
  },
  {
   "cell_type": "code",
   "execution_count": 7,
   "metadata": {},
   "outputs": [
    {
     "data": {
      "image/png": "[encoded data removed]",
      "text/plain": [
       "<Figure size 432x288 with 1 Axes>"
      ]
     },
     "metadata": {},
     "output_type": "display_data"
    }
   ],
   "source": [
    "Alpha.value = 0.1\n",
    "V_Target = np.linspace(Mu.min(), Mu.max(), num=60)\n",
    "V_Risk = np.zeros(V_Target.shape)\n",
    "for idx, Target_Return.value in enumerate(V_Target):\n",
    "    Portfolio_ES.solve()\n",
    "    V_Risk[idx] = Risk_ES.value\n",
    "fig3 = plt.figure(num=3, facecolor='w')\n",
    "plt.plot(V_Risk, V_Target, 'b-')\n",
    "plt.plot((-R[R <= R.quantile(Alpha.value)]).mean().values, Mu, 'rx')\n",
    "plt.legend(['Frontier', 'Asset'], loc='best', frameon=False)\n",
    "plt.xlabel('Expected shortfall (%)')\n",
    "plt.ylabel('Expected return (%)')\n",
    "plt.show()"
   ]
  },
  {
   "cell_type": "code",
   "execution_count": null,
   "metadata": {},
   "outputs": [],
   "source": []
  }
 ],
 "metadata": {
  "kernelspec": {
   "display_name": "Python (Finance)",
   "language": "python",
   "name": "finance"
  },
  "language_info": {
   "codemirror_mode": {
    "name": "ipython",
    "version": 3
   },
   "file_extension": ".py",
   "mimetype": "text/x-python",
   "name": "python",
   "nbconvert_exporter": "python",
   "pygments_lexer": "ipython3",
   "version": "3.7.3"
  }
 },
 "nbformat": 4,
 "nbformat_minor": 2
}
