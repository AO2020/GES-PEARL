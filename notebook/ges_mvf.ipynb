{
 "cells": [
  {
   "cell_type": "markdown",
   "metadata": {},
   "source": [
    "## Mean-Variance Approach\n",
    "---\n",
    "\n",
    "The minimum variance portfolio problem is formulated as follows.\n",
    "\n",
    "$$\n",
    "\\begin{split}\n",
    " \\min_{w}\\quad & \\sigma_P^2=w^{\\intercal}\\Sigma w, \\\\\n",
    " \\text{subject to}\\quad\n",
    " & \\text{(a)}\\ w^{\\intercal}\\mu = \\mu_P, \\\\\n",
    " & \\text{(b)}\\ w^{\\intercal}\\iota = 1, \\\\\n",
    " & \\text{(c)}\\ w\\geqq 0,\n",
    "\\end{split}\n",
    "$$\n",
    "\n",
    "where\n",
    "\n",
    "$$\n",
    " w = \\begin{bmatrix} w_1 \\\\ \\vdots \\\\ w_N \\end{bmatrix}, \\quad \n",
    " \\mu = \\begin{bmatrix} \\mu_1 \\\\ \\vdots \\\\ \\mu_N \\end{bmatrix}, \\quad \n",
    " \\Sigma = \\begin{bmatrix} \\sigma_1^2 & \\cdots & \\sigma_{1N} \\\\\n",
    " \\vdots & \\ddots & \\vdots \\\\\n",
    " \\sigma_{N1} & \\cdots & \\sigma_N^2 \\\\\n",
    " \\end{bmatrix}.\n",
    "$$\n",
    "\n",
    "+ $\\mu$ - mean vector\n",
    "+ $\\Sigma$ - covariance matrix\n",
    "+ $\\iota$ - vector whose elements are all equal to one"
   ]
  },
  {
   "cell_type": "markdown",
   "metadata": {},
   "source": [
    "## Minimum Variance Frontier\n",
    "---\n",
    "\n",
    "`numpy.linalg` is a NumPy module of linear algebra."
   ]
  },
  {
   "cell_type": "code",
   "execution_count": 1,
   "metadata": {},
   "outputs": [],
   "source": [
    "%matplotlib inline\n",
    "import numpy as np\n",
    "import numpy.linalg as la\n",
    "import matplotlib.pyplot as plt"
   ]
  },
  {
   "cell_type": "markdown",
   "metadata": {},
   "source": [
    "In the following cell, the mean vector `Mean`, the covariance matrix `Sigma` are defined. Note that\n",
    "`Stdev` is a vector of standard deviations and `diag` create a diagonal matrix from a vector. So\n",
    "\n",
    "```Python\n",
    "Sigma = np.diag(Stdev) @ CorrMatrix @ np.diag(Stdev)\n",
    "```\n",
    "\n",
    "creates the covariance matrix `Sigma` we need. `@` is the operator for matrix multiplication.\n",
    "\n",
    "`iota` is a vector whose elements are all equal to one."
   ]
  },
  {
   "cell_type": "code",
   "execution_count": 2,
   "metadata": {},
   "outputs": [
    {
     "name": "stdout",
     "output_type": "stream",
     "text": [
      "[[ 25.     12.5     6.75    7.5    13.75 ]\n",
      " [ 12.5   100.     27.     30.     22.   ]\n",
      " [  6.75   27.     56.25   28.125  29.7  ]\n",
      " [  7.5    30.     28.125 225.     74.25 ]\n",
      " [ 13.75   22.     29.7    74.25  121.   ]]\n"
     ]
    }
   ],
   "source": [
    "Mu = np.array([1.0, 3.0, 1.5, 6.0, 4.5])\n",
    "Stdev = np.array([5.0, 10.0, 7.5, 15.0, 11.0])\n",
    "CorrMatrix = np.array([[1.00, 0.25, 0.18, 0.10, 0.25],\n",
    "                       [0.25, 1.00, 0.36, 0.20, 0.20],\n",
    "                       [0.18, 0.36, 1.00, 0.25, 0.36],\n",
    "                       [0.10, 0.20, 0.25, 1.00, 0.45],\n",
    "                       [0.25, 0.20, 0.36, 0.45, 1.00]])\n",
    "Sigma = np.diag(Stdev) @ CorrMatrix @ np.diag(Stdev)\n",
    "iota = np.ones(Mu.shape)\n",
    "print(Sigma)"
   ]
  },
  {
   "cell_type": "markdown",
   "metadata": {},
   "source": [
    "`inv` is a function to compute the inverse of a matrix. Note that in Python `@` is applicable as long as the length of a vector matches the length of the corresponding row/column of a matrix. So we do not need to apply the traspose operator `T` to `Mu` or `iota`."
   ]
  },
  {
   "cell_type": "code",
   "execution_count": 3,
   "metadata": {},
   "outputs": [],
   "source": [
    "inv_Sigma = la.inv(Sigma)\n",
    "A = Mu @ inv_Sigma @ iota\n",
    "B = Mu @ inv_Sigma @ Mu\n",
    "C = iota @ inv_Sigma @ iota\n",
    "D = B * C - A ** 2"
   ]
  },
  {
   "cell_type": "markdown",
   "metadata": {},
   "source": [
    "In general no closed-form solution is available for the minimum variance portfolio problem. However, if we drop (c), the solution is given by\n",
    "\n",
    "$$\n",
    " w = \n",
    " \\frac{C\\mu_P-A}{D}\\Sigma^{-1}\\mu + \\frac{B-A\\mu_P}{D}\\Sigma^{-1}\\iota,\n",
    "$$\n",
    "\n",
    "where\n",
    "\n",
    "$$\n",
    " A =\\mu^{\\intercal}\\Sigma^{-1}\\iota,\\ B=\\mu^{\\intercal}\\Sigma^{-1}\\mu,\\ \n",
    " C =\\iota^{\\intercal}\\Sigma^{-1}\\iota,\\ D = B C - A^2.\n",
    "$$"
   ]
  },
  {
   "cell_type": "markdown",
   "metadata": {},
   "source": [
    "Then we have the following relationship between $\\mu_P$ and $\\sigma_P$:\n",
    "\n",
    "$$\n",
    " \\sigma_P = \\sqrt{\\frac{C\\mu_P^2 - 2A\\mu_P + B}{D}}\n",
    " = \\sqrt{\\frac{C}{D}\\left(\\mu_P-\\frac{A}{C}\\right)^2+\\frac1{C}}.\n",
    "$$\n",
    "\n",
    "Therefore the minimum variance frontier is given by\n",
    "\n",
    "$$\n",
    "\\mu_P = \\begin{cases}\n",
    "\\displaystyle\n",
    "\\frac{A + \\sqrt{D(C\\sigma_P^2 - 1)}}{C}, & \\mu_P > \\frac{A}{C}; \\\\\n",
    "& \\\\\n",
    "\\displaystyle\n",
    "\\frac{A - \\sqrt{D(C\\sigma_P^2 - 1)}}{C}, & \\mu_P < \\frac{A}{C}.\n",
    "\\end{cases}\n",
    "$$"
   ]
  },
  {
   "cell_type": "code",
   "execution_count": 4,
   "metadata": {},
   "outputs": [],
   "source": [
    "V_Target = np.linspace(Mu.min(), Mu.max(), num=5)\n",
    "V_Risk = np.zeros(V_Target.shape)\n",
    "V_Weight = np.zeros((V_Target.shape[0], Mu.shape[0]))\n",
    "for idx, Target_Return in enumerate(V_Target):\n",
    "    V_Weight[idx, :] = (C * Target_Return - A) / D * la.solve(Sigma, Mu) \\\n",
    "                       + (B - A * Target_Return) / D * la.solve(Sigma, iota)\n",
    "    V_Risk[idx] = (C / D) * (Target_Return - A / C) ** 2 + 1.0 / C\n",
    "sigma_gmv = 1.0 / np.sqrt(C)\n",
    "sigma_p = np.linspace(sigma_gmv, 1.05 * np.max(Stdev), num=250)\n",
    "mu_p_efficient = (A + np.sqrt(np.abs(C * sigma_p ** 2 - 1.0) * D)) / C\n",
    "mu_p_inefficient = (A - np.sqrt(np.abs(C * sigma_p ** 2 - 1.0) * D)) / C"
   ]
  },
  {
   "cell_type": "markdown",
   "metadata": {},
   "source": [
    "The upper half of the minimum variance frontier is called the <font color=red>efficient frontier</font> because the expected return is higher on the upper half than the lower half at any given level of the risk (standard deviation). In contrast to the efficient froniter, we refer to the lower half of the minimum variance frontier as the inefficient frontier, though this term is not commonly used in the field of finance."
   ]
  },
  {
   "cell_type": "code",
   "execution_count": 5,
   "metadata": {},
   "outputs": [
    {
     "data": {
      "image/png": "[encoded data removed]",
      "text/plain": [
       "<Figure size 432x288 with 1 Axes>"
      ]
     },
     "metadata": {},
     "output_type": "display_data"
    }
   ],
   "source": [
    "fig1 = plt.figure(1, facecolor='w')\n",
    "plt.plot(sigma_p, mu_p_efficient, 'b-', label='Efficient frontier')\n",
    "plt.plot(sigma_p, mu_p_inefficient, 'b:', label='Inefficient frontier')\n",
    "plt.plot(np.sqrt(np.diagonal(Sigma)), Mu, 'rx', label='Asset')\n",
    "plt.legend(loc='best', frameon=False)\n",
    "plt.xlabel('Standard deviation (%)')\n",
    "plt.ylabel('Expected return (%)')\n",
    "plt.show()"
   ]
  }
 ],
 "metadata": {
  "kernelspec": {
   "display_name": "Python (Finance)",
   "language": "python",
   "name": "finance"
  },
  "language_info": {
   "codemirror_mode": {
    "name": "ipython",
    "version": 3
   },
   "file_extension": ".py",
   "mimetype": "text/x-python",
   "name": "python",
   "nbconvert_exporter": "python",
   "pygments_lexer": "ipython3",
   "version": "3.7.3"
  }
 },
 "nbformat": 4,
 "nbformat_minor": 2
}
