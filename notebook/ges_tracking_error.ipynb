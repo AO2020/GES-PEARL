{
 "cells": [
  {
   "cell_type": "markdown",
   "metadata": {},
   "source": [
    "## Tracking Error Minimization\n",
    "---\n",
    "\n",
    "### Passive Management Vs. Active Management\n",
    "\n",
    "+ So far we have reviewed how to manage our portfolio in terms of the balance between the expected return and the risk (the variance or the expected shortfall). This style of portfolio management is called <font color=red>active management</font>. Active management also involves discretionary selection of assets.\n",
    "\n",
    "+ <font color=red>Passive management</font> of a portfolio, on the other hand, is a investment strategy in which an investor tries to mimic a benchmark index. Passive management funds that mimic indices are called \\alert{index funds}. As the benchmark portfolio, index funds use stock indices, bond indices, currencies, commodities, or even hedge funds.\n",
    "\n",
    "+ The goal in passive management is to minimize a discrepancy between a portfolio and the benchmark index. \n"
   ]
  },
  {
   "cell_type": "code",
   "execution_count": 1,
   "metadata": {},
   "outputs": [],
   "source": [
    "import numpy as np\n",
    "import scipy.stats as st\n",
    "import cvxpy as cvx\n",
    "import pandas as pd\n",
    "import matplotlib.pyplot as plt"
   ]
  },
  {
   "cell_type": "markdown",
   "metadata": {},
   "source": [
    "Here we generate artificial stock return data and save them in the CSV file `asset_return_data.csv`."
   ]
  },
  {
   "cell_type": "code",
   "execution_count": 2,
   "metadata": {},
   "outputs": [],
   "source": [
    "Mu = np.array([1.0, 3.0, 1.5, 6.0, 4.5])\n",
    "Stdev = np.array([5.0, 10.0, 7.5, 15.0, 11.0])\n",
    "CorrMatrix = np.array([[1.00, 0.25, 0.18, 0.10, 0.25],\n",
    "                       [0.25, 1.00, 0.36, 0.20, 0.20],\n",
    "                       [0.18, 0.36, 1.00, 0.25, 0.36],\n",
    "                       [0.10, 0.20, 0.25, 1.00, 0.45],\n",
    "                       [0.25, 0.20, 0.36, 0.45, 1.00]])\n",
    "Sigma = np.diag(Stdev) @  CorrMatrix @ np.diag(Stdev)\n",
    "np.random.seed(9999)\n",
    "T = 120\n",
    "End_of_Month = pd.date_range('1/1/2010', periods=T, freq='M')\n",
    "Asset_Names = ['Asset 1', 'Aseet 2', 'Asset3', 'Asset 4', 'Asset 5']\n",
    "Asset_Return = pd.DataFrame(st.multivariate_normal.rvs(mean=Mu, cov=Sigma, size=T),\n",
    "                            index=End_of_Month, columns=Asset_Names)\n",
    "Asset_Return.to_csv('asset_return_data.csv')"
   ]
  },
  {
   "cell_type": "markdown",
   "metadata": {},
   "source": [
    "Then we read the generate data from `asset_return_data.csv` again."
   ]
  },
  {
   "cell_type": "code",
   "execution_count": 3,
   "metadata": {},
   "outputs": [],
   "source": [
    "R = pd.read_csv('asset_return_data.csv', index_col=0)\n",
    "R = R.asfreq(pd.infer_freq(R.index))\n",
    "T, N = R.shape\n",
    "np.random.seed(8888)\n",
    "BenchmarkIndex = R.dot(np.tile(1.0/N, N)) + st.norm.rvs(loc=0.0, scale=3.0, size=T)"
   ]
  },
  {
   "cell_type": "markdown",
   "metadata": {},
   "source": [
    "### Tracking Error\n",
    "\n",
    "Let $y_t$ denote the return on the benchmark index at time $t$, $r_{nt}$ denote the return on asset $n$ $(n=1,\\dots,N)$ at time $t$ $(t=1,\\dots,T)$, and $w_n$ denote the allocation weight for asset $n$. Then a discrepancy between a portfolio and the benchmark index at time $t$ is given by\n",
    "\\begin{equation}\n",
    "\\begin{split}\n",
    " e_t &= y_t - \\sum_{n=1}^N w_n r_{nt}\n",
    " = y_t - \\begin{bmatrix} r_{1t} & \\cdots & r_{Nt}\\end{bmatrix}\n",
    " \\begin{bmatrix} w_1\\\\ \\vdots \\\\ w_N \\end{bmatrix} \\\\\n",
    " &= y_t - r_t^{\\intercal}w.\n",
    "\\end{split}\n",
    "\\end{equation}\n",
    "This discrepancy is called a <font color=red>tracking error</font>. \n"
   ]
  },
  {
   "cell_type": "markdown",
   "metadata": {},
   "source": [
    "Define\n",
    "\n",
    "\\begin{equation*}\n",
    " y = \\begin{bmatrix} y_1 \\\\ \\vdots \\\\ y_T \\end{bmatrix},\\quad\n",
    " R = \\begin{bmatrix} r_1^{\\intercal} \\\\ \\vdots \\\\ r_T^{\\intercal} \\end{bmatrix},\\quad\n",
    " e = \\begin{bmatrix} e_1 \\\\ \\vdots \\\\ e_T \\end{bmatrix}.\n",
    "\\end{equation*}\n",
    "\n",
    "The tracking error minimization problem is defined as \n",
    "\n",
    "\\begin{equation*}\n",
    "\\begin{split}\n",
    " \\min_{w} & \\quad \\frac1{T}e^{\\intercal}e, \\\\\n",
    " \\text{subject to} & \\quad  e = y-Rw,\\quad w^{\\intercal}\\iota = 1,\\quad w\\geqq 0.\n",
    "\\end{split}\n",
    "\\end{equation*}\n"
   ]
  },
  {
   "cell_type": "code",
   "execution_count": 4,
   "metadata": {},
   "outputs": [],
   "source": [
    "MovingWindow = 96\n",
    "BackTesting = T - MovingWindow\n",
    "V_Tracking = np.zeros(BackTesting)\n",
    "Weight = cvx.Variable(N)\n",
    "Error = cvx.Variable(MovingWindow)\n",
    "TrackingError = cvx.sum_squares(Error)\n",
    "Asset_srT = R / np.sqrt(T)\n",
    "Index_srT = BenchmarkIndex / np.sqrt(T)\n",
    "for Month in range(0, BackTesting):\n",
    "    Asset = Asset_srT.values[Month:(Month + MovingWindow), :]\n",
    "    Index = Index_srT.values[Month:(Month + MovingWindow)]\n",
    "    Min_TrackingError = cvx.Problem(cvx.Minimize(TrackingError),\n",
    "                                    [Index - Asset*Weight == Error,\n",
    "                                     cvx.sum(Weight) == 1.0,\n",
    "                                     Weight >= 0.0])\n",
    "    Min_TrackingError.solve(solver=cvx.ECOS)\n",
    "    V_Tracking[Month] = R.values[Month + MovingWindow, :].dot(Weight.value)"
   ]
  },
  {
   "cell_type": "code",
   "execution_count": 5,
   "metadata": {},
   "outputs": [
    {
     "data": {
      "image/png": "[encoded data removed]",
      "text/plain": [
       "<Figure size 432x288 with 1 Axes>"
      ]
     },
     "metadata": {},
     "output_type": "display_data"
    }
   ],
   "source": [
    "fig1 = plt.figure(num=1, facecolor='w')\n",
    "plt.plot(list(range(1, BackTesting + 1)), BenchmarkIndex[MovingWindow:], 'b-', label='Benchmark')\n",
    "plt.plot(list(range(1, BackTesting + 1)), V_Tracking, 'r--', label='Portfolio')\n",
    "plt.legend(loc='best', frameon=False)\n",
    "plt.xlabel('Year')\n",
    "plt.ylabel('Return (%)')\n",
    "plt.xticks(list(range(12, BackTesting + 1, 12)),\n",
    "           pd.date_range(R.index[MovingWindow], periods=BackTesting//12, freq='AS').year)\n",
    "plt.show()"
   ]
  },
  {
   "cell_type": "code",
   "execution_count": null,
   "metadata": {},
   "outputs": [],
   "source": []
  }
 ],
 "metadata": {
  "kernelspec": {
   "display_name": "Python (Finance)",
   "language": "python",
   "name": "finance"
  },
  "language_info": {
   "codemirror_mode": {
    "name": "ipython",
    "version": 3
   },
   "file_extension": ".py",
   "mimetype": "text/x-python",
   "name": "python",
   "nbconvert_exporter": "python",
   "pygments_lexer": "ipython3",
   "version": "3.7.6"
  }
 },
 "nbformat": 4,
 "nbformat_minor": 4
}
